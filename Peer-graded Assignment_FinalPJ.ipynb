{
 "cells": [
  {
   "cell_type": "markdown",
   "metadata": {},
   "source": [
    "# Summary"
   ]
  },
  {
   "cell_type": "markdown",
   "metadata": {},
   "source": [
    "   Firstly, I did brief look at outliers and preprocess, and I made base matrix dataframe for being able to merge other dataframes.\n",
    "About feat engineering, I added lag feat, mean encoding and trend feat. My challenging was making general function to make these features easy later.\n",
    "    Before modeling, I dropped 0～11 monthes data, because they were used for lag feat.\n",
    "    In Model phase, I used LightGBM and simple linear model. About validation, I took kind of TimeSeriesSplit. That is, first 12～27 monthes are mainly used for training, 28～33 monthes for valid.\n",
    "    After that, I tried simple convex mix and stacking, which is part of assignment in this course."
   ]
  },
  {
   "cell_type": "markdown",
   "metadata": {},
   "source": [
    "# Code"
   ]
  },
  {
   "cell_type": "markdown",
   "metadata": {},
   "source": [
    "From the beginning to the end, it takes about 90 mins (86 mins)"
   ]
  },
  {
   "cell_type": "code",
   "execution_count": 2,
   "metadata": {},
   "outputs": [],
   "source": [
    "import time\n",
    "start = time.time()"
   ]
  },
  {
   "cell_type": "code",
   "execution_count": 3,
   "metadata": {},
   "outputs": [],
   "source": [
    "# I put each version here\n",
    "# python version is 3.7.3\n",
    "\n",
    "import numpy as np     # 1.16.4\n",
    "from matplotlib import pyplot as plt # 3.1.0\n",
    "import seaborn as sns  # 0.9.0\n",
    "import pandas as pd    # 0.25.0\n",
    "\n",
    "# sklearn is 0.21.2\n",
    "from sklearn.preprocessing import LabelEncoder\n",
    "from sklearn.linear_model import LinearRegression\n",
    "from sklearn.metrics import mean_squared_error, r2_score\n",
    "\n",
    "# lgbm is 2.2.3\n",
    "import lightgbm as lgb \n",
    "from lightgbm import plot_importance\n",
    "\n",
    "from itertools import product\n",
    "import gc, warnings, pickle, time\n",
    "from pathlib import Path\n",
    "\n",
    "warnings.filterwarnings('ignore')\n",
    "\n",
    "pd.set_option('display.max_columns', 500)"
   ]
  },
  {
   "cell_type": "code",
   "execution_count": 5,
   "metadata": {},
   "outputs": [
    {
     "name": "stdout",
     "output_type": "stream",
     "text": [
      "0 items.csv\n",
      "1 item_categories.csv\n",
      "2 sales_train.csv\n",
      "3 sample_submission.csv\n",
      "4 shops.csv\n",
      "5 test.csv\n"
     ]
    }
   ],
   "source": [
    "# This process makes it easy to read csv in next cell\n",
    "Path.ls = lambda x: list(x.iterdir())\n",
    "path = Path('D:/data/final_pj/csvfiles')\n",
    "for i, p in enumerate(path.ls()):\n",
    "    print(i, str(p).split('\\\\')[-1])"
   ]
  },
  {
   "cell_type": "code",
   "execution_count": 6,
   "metadata": {},
   "outputs": [],
   "source": [
    "items = pd.read_csv(path.ls()[0])\n",
    "cats  = pd.read_csv(path.ls()[1])\n",
    "train = pd.read_csv(path.ls()[2])\n",
    "sub   = pd.read_csv(path.ls()[3])\n",
    "shops = pd.read_csv(path.ls()[4])\n",
    "test  = pd.read_csv(path.ls()[5]).set_index('ID')"
   ]
  },
  {
   "cell_type": "code",
   "execution_count": 7,
   "metadata": {},
   "outputs": [],
   "source": [
    "train.date = pd.to_datetime(train.date, format='%d.%m.%Y')"
   ]
  },
  {
   "cell_type": "code",
   "execution_count": 8,
   "metadata": {},
   "outputs": [
    {
     "data": {
      "text/html": [
       "<div>\n",
       "<style scoped>\n",
       "    .dataframe tbody tr th:only-of-type {\n",
       "        vertical-align: middle;\n",
       "    }\n",
       "\n",
       "    .dataframe tbody tr th {\n",
       "        vertical-align: top;\n",
       "    }\n",
       "\n",
       "    .dataframe thead th {\n",
       "        text-align: right;\n",
       "    }\n",
       "</style>\n",
       "<table border=\"1\" class=\"dataframe\">\n",
       "  <thead>\n",
       "    <tr style=\"text-align: right;\">\n",
       "      <th></th>\n",
       "      <th>date</th>\n",
       "      <th>date_block_num</th>\n",
       "      <th>shop_id</th>\n",
       "      <th>item_id</th>\n",
       "      <th>item_price</th>\n",
       "      <th>item_cnt_day</th>\n",
       "    </tr>\n",
       "  </thead>\n",
       "  <tbody>\n",
       "    <tr>\n",
       "      <th>0</th>\n",
       "      <td>2013-01-02</td>\n",
       "      <td>0</td>\n",
       "      <td>59</td>\n",
       "      <td>22154</td>\n",
       "      <td>999.0</td>\n",
       "      <td>1.0</td>\n",
       "    </tr>\n",
       "    <tr>\n",
       "      <th>1</th>\n",
       "      <td>2013-01-03</td>\n",
       "      <td>0</td>\n",
       "      <td>25</td>\n",
       "      <td>2552</td>\n",
       "      <td>899.0</td>\n",
       "      <td>1.0</td>\n",
       "    </tr>\n",
       "  </tbody>\n",
       "</table>\n",
       "</div>"
      ],
      "text/plain": [
       "        date  date_block_num  shop_id  item_id  item_price  item_cnt_day\n",
       "0 2013-01-02               0       59    22154       999.0           1.0\n",
       "1 2013-01-03               0       25     2552       899.0           1.0"
      ]
     },
     "execution_count": 8,
     "metadata": {},
     "output_type": "execute_result"
    }
   ],
   "source": [
    "train[:2]"
   ]
  },
  {
   "cell_type": "markdown",
   "metadata": {},
   "source": [
    "## outliers"
   ]
  },
  {
   "cell_type": "code",
   "execution_count": 9,
   "metadata": {
    "scrolled": true
   },
   "outputs": [
    {
     "data": {
      "image/png": "[encoded data removed]",
      "text/plain": [
       "<Figure size 1080x360 with 2 Axes>"
      ]
     },
     "metadata": {
      "needs_background": "light"
     },
     "output_type": "display_data"
    }
   ],
   "source": [
    "_, ax = plt.subplots(1,2, figsize=(15,5))\n",
    "sns.boxplot(train.item_cnt_day, ax=ax[0])\n",
    "sns.boxplot(train.item_price, ax=ax[1]);"
   ]
  },
  {
   "cell_type": "code",
   "execution_count": 10,
   "metadata": {},
   "outputs": [],
   "source": [
    "# remove outliers\n",
    "train = train[train.item_cnt_day<1001]\n",
    "train = train[train.item_price<100000]"
   ]
  },
  {
   "cell_type": "code",
   "execution_count": 11,
   "metadata": {},
   "outputs": [
    {
     "data": {
      "text/html": [
       "<div>\n",
       "<style scoped>\n",
       "    .dataframe tbody tr th:only-of-type {\n",
       "        vertical-align: middle;\n",
       "    }\n",
       "\n",
       "    .dataframe tbody tr th {\n",
       "        vertical-align: top;\n",
       "    }\n",
       "\n",
       "    .dataframe thead th {\n",
       "        text-align: right;\n",
       "    }\n",
       "</style>\n",
       "<table border=\"1\" class=\"dataframe\">\n",
       "  <thead>\n",
       "    <tr style=\"text-align: right;\">\n",
       "      <th></th>\n",
       "      <th>date</th>\n",
       "      <th>date_block_num</th>\n",
       "      <th>shop_id</th>\n",
       "      <th>item_id</th>\n",
       "      <th>item_price</th>\n",
       "      <th>item_cnt_day</th>\n",
       "    </tr>\n",
       "  </thead>\n",
       "  <tbody>\n",
       "    <tr>\n",
       "      <th>484683</th>\n",
       "      <td>2013-05-15</td>\n",
       "      <td>4</td>\n",
       "      <td>32</td>\n",
       "      <td>2973</td>\n",
       "      <td>-1.0</td>\n",
       "      <td>1.0</td>\n",
       "    </tr>\n",
       "  </tbody>\n",
       "</table>\n",
       "</div>"
      ],
      "text/plain": [
       "             date  date_block_num  shop_id  item_id  item_price  item_cnt_day\n",
       "484683 2013-05-15               4       32     2973        -1.0           1.0"
      ]
     },
     "execution_count": 11,
     "metadata": {},
     "output_type": "execute_result"
    }
   ],
   "source": [
    "# Check irregular price and fill median value\n",
    "train[train.item_price < 0]"
   ]
  },
  {
   "cell_type": "code",
   "execution_count": 12,
   "metadata": {},
   "outputs": [],
   "source": [
    "median = train[(train.shop_id==32)&(train.item_id==2973)&(train.date_block_num==4)&(train.item_price>0)].item_price.median()\n",
    "train.loc[train.item_price<0, 'item_price'] = median"
   ]
  },
  {
   "cell_type": "code",
   "execution_count": 13,
   "metadata": {},
   "outputs": [],
   "source": [
    "# There are shops whose name is almost identical.\n",
    "# I see them as same one\n",
    "\n",
    "# Якутск Орджоникидзе, 56\n",
    "train.loc[train.shop_id == 0, 'shop_id'] = 57\n",
    "test.loc[test.shop_id == 0, 'shop_id'] = 57\n",
    "# Якутск ТЦ \"Центральный\"\n",
    "train.loc[train.shop_id == 1, 'shop_id'] = 58\n",
    "test.loc[test.shop_id == 1, 'shop_id'] = 58\n",
    "# Жуковский ул. Чкалова 39м²\n",
    "train.loc[train.shop_id == 10, 'shop_id'] = 11\n",
    "test.loc[test.shop_id == 10, 'shop_id'] = 11"
   ]
  },
  {
   "cell_type": "code",
   "execution_count": 14,
   "metadata": {},
   "outputs": [
    {
     "data": {
      "text/plain": [
       "array([ 2,  3,  4,  5,  6,  7,  8,  9, 11, 12, 13, 14, 15, 16, 17, 18, 19,\n",
       "       20, 21, 22, 23, 24, 25, 26, 27, 28, 29, 30, 31, 32, 33, 34, 35, 36,\n",
       "       37, 38, 39, 40, 41, 42, 43, 44, 45, 46, 47, 48, 49, 50, 51, 52, 53,\n",
       "       54, 55, 56, 57, 58, 59], dtype=int64)"
      ]
     },
     "execution_count": 14,
     "metadata": {},
     "output_type": "execute_result"
    }
   ],
   "source": [
    "np.sort(train.shop_id.unique())"
   ]
  },
  {
   "cell_type": "markdown",
   "metadata": {},
   "source": [
    "## Shops"
   ]
  },
  {
   "cell_type": "code",
   "execution_count": 15,
   "metadata": {},
   "outputs": [
    {
     "data": {
      "text/html": [
       "<div>\n",
       "<style scoped>\n",
       "    .dataframe tbody tr th:only-of-type {\n",
       "        vertical-align: middle;\n",
       "    }\n",
       "\n",
       "    .dataframe tbody tr th {\n",
       "        vertical-align: top;\n",
       "    }\n",
       "\n",
       "    .dataframe thead th {\n",
       "        text-align: right;\n",
       "    }\n",
       "</style>\n",
       "<table border=\"1\" class=\"dataframe\">\n",
       "  <thead>\n",
       "    <tr style=\"text-align: right;\">\n",
       "      <th></th>\n",
       "      <th>shop_name</th>\n",
       "      <th>shop_id</th>\n",
       "    </tr>\n",
       "  </thead>\n",
       "  <tbody>\n",
       "    <tr>\n",
       "      <th>0</th>\n",
       "      <td>!Якутск Орджоникидзе, 56 фран</td>\n",
       "      <td>0</td>\n",
       "    </tr>\n",
       "    <tr>\n",
       "      <th>1</th>\n",
       "      <td>!Якутск ТЦ \"Центральный\" фран</td>\n",
       "      <td>1</td>\n",
       "    </tr>\n",
       "  </tbody>\n",
       "</table>\n",
       "</div>"
      ],
      "text/plain": [
       "                       shop_name  shop_id\n",
       "0  !Якутск Орджоникидзе, 56 фран        0\n",
       "1  !Якутск ТЦ \"Центральный\" фран        1"
      ]
     },
     "execution_count": 15,
     "metadata": {},
     "output_type": "execute_result"
    }
   ],
   "source": [
    "shops[:2]"
   ]
  },
  {
   "cell_type": "code",
   "execution_count": 16,
   "metadata": {},
   "outputs": [],
   "source": [
    "# Simple splitting\n",
    "shops.loc[shops.shop_name == 'Сергиев Посад ТЦ \"7Я\"', 'shop_name'] = 'СергиевПосад ТЦ \"7Я\"'\n",
    "shops['city'] = shops['shop_name'].str.split(' ').map(lambda x: x[0])\n",
    "shops.loc[shops.city == '!Якутск', 'city'] = 'Якутск'\n",
    "shops['city_code'] = LabelEncoder().fit_transform(shops['city'])\n",
    "shops = shops[['shop_id','city_code']]"
   ]
  },
  {
   "cell_type": "code",
   "execution_count": 17,
   "metadata": {},
   "outputs": [
    {
     "data": {
      "text/html": [
       "<div>\n",
       "<style scoped>\n",
       "    .dataframe tbody tr th:only-of-type {\n",
       "        vertical-align: middle;\n",
       "    }\n",
       "\n",
       "    .dataframe tbody tr th {\n",
       "        vertical-align: top;\n",
       "    }\n",
       "\n",
       "    .dataframe thead th {\n",
       "        text-align: right;\n",
       "    }\n",
       "</style>\n",
       "<table border=\"1\" class=\"dataframe\">\n",
       "  <thead>\n",
       "    <tr style=\"text-align: right;\">\n",
       "      <th></th>\n",
       "      <th>shop_id</th>\n",
       "      <th>city_code</th>\n",
       "    </tr>\n",
       "  </thead>\n",
       "  <tbody>\n",
       "    <tr>\n",
       "      <th>0</th>\n",
       "      <td>0</td>\n",
       "      <td>29</td>\n",
       "    </tr>\n",
       "    <tr>\n",
       "      <th>1</th>\n",
       "      <td>1</td>\n",
       "      <td>29</td>\n",
       "    </tr>\n",
       "  </tbody>\n",
       "</table>\n",
       "</div>"
      ],
      "text/plain": [
       "   shop_id  city_code\n",
       "0        0         29\n",
       "1        1         29"
      ]
     },
     "execution_count": 17,
     "metadata": {},
     "output_type": "execute_result"
    }
   ],
   "source": [
    "shops[:2]"
   ]
  },
  {
   "cell_type": "markdown",
   "metadata": {},
   "source": [
    "## Cats"
   ]
  },
  {
   "cell_type": "code",
   "execution_count": 18,
   "metadata": {},
   "outputs": [
    {
     "data": {
      "text/html": [
       "<div>\n",
       "<style scoped>\n",
       "    .dataframe tbody tr th:only-of-type {\n",
       "        vertical-align: middle;\n",
       "    }\n",
       "\n",
       "    .dataframe tbody tr th {\n",
       "        vertical-align: top;\n",
       "    }\n",
       "\n",
       "    .dataframe thead th {\n",
       "        text-align: right;\n",
       "    }\n",
       "</style>\n",
       "<table border=\"1\" class=\"dataframe\">\n",
       "  <thead>\n",
       "    <tr style=\"text-align: right;\">\n",
       "      <th></th>\n",
       "      <th>item_category_name</th>\n",
       "      <th>item_category_id</th>\n",
       "    </tr>\n",
       "  </thead>\n",
       "  <tbody>\n",
       "    <tr>\n",
       "      <th>0</th>\n",
       "      <td>PC - Гарнитуры/Наушники</td>\n",
       "      <td>0</td>\n",
       "    </tr>\n",
       "    <tr>\n",
       "      <th>1</th>\n",
       "      <td>Аксессуары - PS2</td>\n",
       "      <td>1</td>\n",
       "    </tr>\n",
       "  </tbody>\n",
       "</table>\n",
       "</div>"
      ],
      "text/plain": [
       "        item_category_name  item_category_id\n",
       "0  PC - Гарнитуры/Наушники                 0\n",
       "1         Аксессуары - PS2                 1"
      ]
     },
     "execution_count": 18,
     "metadata": {},
     "output_type": "execute_result"
    }
   ],
   "source": [
    "cats[:2]"
   ]
  },
  {
   "cell_type": "code",
   "execution_count": 19,
   "metadata": {
    "scrolled": true
   },
   "outputs": [],
   "source": [
    "# Similarly, splitting and encoding\n",
    "cats['split'] = cats.item_category_name.str.split('-')\n",
    "cats['type']  = cats['split'].map(lambda x: x[0].strip())\n",
    "cats['type_code'] = LabelEncoder().fit_transform(cats['type'])\n",
    "cats['subtype']  = cats['split'].map(lambda x: x[1].strip() if len(x) > 1 else x[0].strip())\n",
    "cats['subtype_code'] = LabelEncoder().fit_transform(cats['subtype'])\n",
    "\n",
    "cats = cats[['item_category_id','type_code', 'subtype_code']]"
   ]
  },
  {
   "cell_type": "code",
   "execution_count": 20,
   "metadata": {},
   "outputs": [
    {
     "data": {
      "text/html": [
       "<div>\n",
       "<style scoped>\n",
       "    .dataframe tbody tr th:only-of-type {\n",
       "        vertical-align: middle;\n",
       "    }\n",
       "\n",
       "    .dataframe tbody tr th {\n",
       "        vertical-align: top;\n",
       "    }\n",
       "\n",
       "    .dataframe thead th {\n",
       "        text-align: right;\n",
       "    }\n",
       "</style>\n",
       "<table border=\"1\" class=\"dataframe\">\n",
       "  <thead>\n",
       "    <tr style=\"text-align: right;\">\n",
       "      <th></th>\n",
       "      <th>item_category_id</th>\n",
       "      <th>type_code</th>\n",
       "      <th>subtype_code</th>\n",
       "    </tr>\n",
       "  </thead>\n",
       "  <tbody>\n",
       "    <tr>\n",
       "      <th>0</th>\n",
       "      <td>0</td>\n",
       "      <td>0</td>\n",
       "      <td>29</td>\n",
       "    </tr>\n",
       "    <tr>\n",
       "      <th>1</th>\n",
       "      <td>1</td>\n",
       "      <td>1</td>\n",
       "      <td>9</td>\n",
       "    </tr>\n",
       "  </tbody>\n",
       "</table>\n",
       "</div>"
      ],
      "text/plain": [
       "   item_category_id  type_code  subtype_code\n",
       "0                 0          0            29\n",
       "1                 1          1             9"
      ]
     },
     "execution_count": 20,
     "metadata": {},
     "output_type": "execute_result"
    }
   ],
   "source": [
    "cats[:2]"
   ]
  },
  {
   "cell_type": "code",
   "execution_count": 21,
   "metadata": {},
   "outputs": [
    {
     "data": {
      "text/html": [
       "<div>\n",
       "<style scoped>\n",
       "    .dataframe tbody tr th:only-of-type {\n",
       "        vertical-align: middle;\n",
       "    }\n",
       "\n",
       "    .dataframe tbody tr th {\n",
       "        vertical-align: top;\n",
       "    }\n",
       "\n",
       "    .dataframe thead th {\n",
       "        text-align: right;\n",
       "    }\n",
       "</style>\n",
       "<table border=\"1\" class=\"dataframe\">\n",
       "  <thead>\n",
       "    <tr style=\"text-align: right;\">\n",
       "      <th></th>\n",
       "      <th>item_name</th>\n",
       "      <th>item_id</th>\n",
       "      <th>item_category_id</th>\n",
       "    </tr>\n",
       "  </thead>\n",
       "  <tbody>\n",
       "    <tr>\n",
       "      <th>0</th>\n",
       "      <td>! ВО ВЛАСТИ НАВАЖДЕНИЯ (ПЛАСТ.)         D</td>\n",
       "      <td>0</td>\n",
       "      <td>40</td>\n",
       "    </tr>\n",
       "    <tr>\n",
       "      <th>1</th>\n",
       "      <td>!ABBYY FineReader 12 Professional Edition Full...</td>\n",
       "      <td>1</td>\n",
       "      <td>76</td>\n",
       "    </tr>\n",
       "  </tbody>\n",
       "</table>\n",
       "</div>"
      ],
      "text/plain": [
       "                                           item_name  item_id  \\\n",
       "0          ! ВО ВЛАСТИ НАВАЖДЕНИЯ (ПЛАСТ.)         D        0   \n",
       "1  !ABBYY FineReader 12 Professional Edition Full...        1   \n",
       "\n",
       "   item_category_id  \n",
       "0                40  \n",
       "1                76  "
      ]
     },
     "execution_count": 21,
     "metadata": {},
     "output_type": "execute_result"
    }
   ],
   "source": [
    "items[:2]"
   ]
  },
  {
   "cell_type": "code",
   "execution_count": 22,
   "metadata": {},
   "outputs": [],
   "source": [
    "# I cannot see analogy, so just drop\n",
    "items.drop(['item_name'], 1, inplace=True)"
   ]
  },
  {
   "cell_type": "code",
   "execution_count": null,
   "metadata": {},
   "outputs": [],
   "source": []
  },
  {
   "cell_type": "markdown",
   "metadata": {},
   "source": [
    "## Monthly sales"
   ]
  },
  {
   "cell_type": "code",
   "execution_count": 23,
   "metadata": {},
   "outputs": [],
   "source": [
    "# This task requires monthly sales of each item at each shop.\n",
    "# make base dataframe, and merge other dataframe into this base one\n",
    "\n",
    "matrix = []\n",
    "cols = ['date_block_num', 'shop_id', 'item_id']\n",
    "for i in range(34):\n",
    "    sales = train[train.date_block_num == i]\n",
    "    matrix.append(np.array(list(product([i], sales['shop_id'].unique(), sales['item_id'].unique()))))\n",
    "\n",
    "matrix = pd.DataFrame(np.vstack(matrix), columns=cols, dtype=np.int16).sort_values(cols).reset_index(drop=True)\n",
    "matrix.date_block_num = matrix.date_block_num.astype(np.int8)\n",
    "matrix.shop_id        = matrix.shop_id.astype(np.int8)"
   ]
  },
  {
   "cell_type": "code",
   "execution_count": 24,
   "metadata": {},
   "outputs": [],
   "source": [
    "train['revenue'] = train['item_price'] *  train['item_cnt_day']"
   ]
  },
  {
   "cell_type": "code",
   "execution_count": 25,
   "metadata": {},
   "outputs": [],
   "source": [
    "# train df has 'item_cnt_day' feat\n",
    "# So group by 'month', 'shop' and 'item' to calculate monthly sale\n",
    "# and merge into base matrix\n",
    "\n",
    "grp = train.groupby(cols).agg(item_cnt_month=('item_cnt_day', 'sum')).reset_index()\n",
    "matrix = matrix.merge(grp, 'left', cols)\n",
    "matrix.item_cnt_month = matrix.item_cnt_month.fillna(0).clip(0,20).astype(np.float16)"
   ]
  },
  {
   "cell_type": "markdown",
   "metadata": {},
   "source": [
    "## Test set"
   ]
  },
  {
   "cell_type": "code",
   "execution_count": 26,
   "metadata": {},
   "outputs": [],
   "source": [
    "# In order to merge test into base matrix, make month data into test df\n",
    "\n",
    "test['date_block_num'] = 34\n",
    "test['date_block_num'] = test['date_block_num'].astype(np.int8)\n",
    "test['shop_id'] = test['shop_id'].astype(np.int8)\n",
    "test['item_id'] = test['item_id'].astype(np.int16)\n",
    "\n",
    "matrix = pd.concat([matrix, test], ignore_index=True, sort=False, keys=cols).fillna(0)"
   ]
  },
  {
   "cell_type": "markdown",
   "metadata": {},
   "source": [
    "## Concat df"
   ]
  },
  {
   "cell_type": "code",
   "execution_count": 27,
   "metadata": {},
   "outputs": [],
   "source": [
    "matrix = matrix.merge(shops, 'left', 'shop_id')\n",
    "matrix = matrix.merge(items, 'left', 'item_id')\n",
    "matrix = matrix.merge(cats , 'left', 'item_category_id')\n",
    "\n",
    "matrix['city_code'] = matrix['city_code'].astype(np.int8)\n",
    "matrix['item_category_id'] = matrix['item_category_id'].astype(np.int8)\n",
    "matrix['type_code'] = matrix['type_code'].astype(np.int8)\n",
    "matrix['subtype_code'] = matrix['subtype_code'].astype(np.int8)"
   ]
  },
  {
   "cell_type": "code",
   "execution_count": 28,
   "metadata": {},
   "outputs": [
    {
     "data": {
      "text/html": [
       "<div>\n",
       "<style scoped>\n",
       "    .dataframe tbody tr th:only-of-type {\n",
       "        vertical-align: middle;\n",
       "    }\n",
       "\n",
       "    .dataframe tbody tr th {\n",
       "        vertical-align: top;\n",
       "    }\n",
       "\n",
       "    .dataframe thead th {\n",
       "        text-align: right;\n",
       "    }\n",
       "</style>\n",
       "<table border=\"1\" class=\"dataframe\">\n",
       "  <thead>\n",
       "    <tr style=\"text-align: right;\">\n",
       "      <th></th>\n",
       "      <th>date_block_num</th>\n",
       "      <th>shop_id</th>\n",
       "      <th>item_id</th>\n",
       "      <th>item_cnt_month</th>\n",
       "      <th>city_code</th>\n",
       "      <th>item_category_id</th>\n",
       "      <th>type_code</th>\n",
       "      <th>subtype_code</th>\n",
       "    </tr>\n",
       "  </thead>\n",
       "  <tbody>\n",
       "    <tr>\n",
       "      <th>0</th>\n",
       "      <td>0</td>\n",
       "      <td>2</td>\n",
       "      <td>19</td>\n",
       "      <td>0.0</td>\n",
       "      <td>0</td>\n",
       "      <td>40</td>\n",
       "      <td>11</td>\n",
       "      <td>4</td>\n",
       "    </tr>\n",
       "    <tr>\n",
       "      <th>1</th>\n",
       "      <td>0</td>\n",
       "      <td>2</td>\n",
       "      <td>27</td>\n",
       "      <td>1.0</td>\n",
       "      <td>0</td>\n",
       "      <td>19</td>\n",
       "      <td>5</td>\n",
       "      <td>10</td>\n",
       "    </tr>\n",
       "  </tbody>\n",
       "</table>\n",
       "</div>"
      ],
      "text/plain": [
       "   date_block_num  shop_id  item_id  item_cnt_month  city_code  \\\n",
       "0               0        2       19             0.0          0   \n",
       "1               0        2       27             1.0          0   \n",
       "\n",
       "   item_category_id  type_code  subtype_code  \n",
       "0                40         11             4  \n",
       "1                19          5            10  "
      ]
     },
     "execution_count": 28,
     "metadata": {},
     "output_type": "execute_result"
    }
   ],
   "source": [
    "matrix[:2]"
   ]
  },
  {
   "cell_type": "markdown",
   "metadata": {},
   "source": [
    "## Target lag"
   ]
  },
  {
   "cell_type": "code",
   "execution_count": 29,
   "metadata": {},
   "outputs": [],
   "source": [
    "def lag_feat(df, lags, col):\n",
    "    tmp = df[cols + [col]]\n",
    "    for i in lags:\n",
    "        shifted = tmp.copy()\n",
    "        shifted.columns = cols + [col + '_lag_' + str(i)]\n",
    "        shifted['date_block_num'] += i\n",
    "        df = df.merge(shifted, 'left', cols)\n",
    "    return df"
   ]
  },
  {
   "cell_type": "code",
   "execution_count": 30,
   "metadata": {},
   "outputs": [
    {
     "data": {
      "text/plain": [
       "27.992873191833496"
      ]
     },
     "execution_count": 30,
     "metadata": {},
     "output_type": "execute_result"
    }
   ],
   "source": [
    "ts = time.time()\n",
    "matrix = lag_feat(matrix, [1,2,3,6,12], 'item_cnt_month')\n",
    "time.time() - ts"
   ]
  },
  {
   "cell_type": "code",
   "execution_count": 31,
   "metadata": {
    "scrolled": true
   },
   "outputs": [
    {
     "data": {
      "text/plain": [
       "268"
      ]
     },
     "execution_count": 31,
     "metadata": {},
     "output_type": "execute_result"
    }
   ],
   "source": [
    "gc.collect()"
   ]
  },
  {
   "cell_type": "markdown",
   "metadata": {},
   "source": [
    "## Mean enc"
   ]
  },
  {
   "cell_type": "markdown",
   "metadata": {},
   "source": [
    "Before encoding, I set up general function, because I want to avoid making same encoding code again and again."
   ]
  },
  {
   "cell_type": "code",
   "execution_count": 32,
   "metadata": {},
   "outputs": [],
   "source": [
    "def encoding(df, col, targ, stat, types=None, lags=None, drop=False, other_df=None, return_grp=False):\n",
    "    col_name = col[0].split('_')[0]\n",
    "    if len(col) > 1:\n",
    "        for c in col[1:]:\n",
    "            if 'cat' in c:\n",
    "                col_name += '_cat'\n",
    "                continue\n",
    "            col_name += '_' + c.split('_')[0]\n",
    "    col_name += '_' + stat + '_' + targ    \n",
    "    \n",
    "    if other_df is None  : grp = df.groupby(col).agg({targ:stat})\n",
    "    else                 : grp = other_df.groupby(col).agg({targ:stat})\n",
    "        \n",
    "    grp.columns = [col_name]\n",
    "    grp.reset_index(inplace=True)\n",
    "        \n",
    "    df = df.merge(grp, 'left', col)\n",
    "    gc.collect()\n",
    "    \n",
    "    if types is not None: df[col_name] = df[col_name].astype(types)\n",
    "    if lags  is not None:\n",
    "        df = lag_feat(df, lags, col_name)\n",
    "        if drop:\n",
    "            df.drop(col_name, 1, inplace=True)\n",
    "            \n",
    "    if return_grp: return df, grp\n",
    "    \n",
    "    return df"
   ]
  },
  {
   "cell_type": "code",
   "execution_count": 33,
   "metadata": {
    "scrolled": false
   },
   "outputs": [
    {
     "data": {
      "text/html": [
       "<div>\n",
       "<style scoped>\n",
       "    .dataframe tbody tr th:only-of-type {\n",
       "        vertical-align: middle;\n",
       "    }\n",
       "\n",
       "    .dataframe tbody tr th {\n",
       "        vertical-align: top;\n",
       "    }\n",
       "\n",
       "    .dataframe thead th {\n",
       "        text-align: right;\n",
       "    }\n",
       "</style>\n",
       "<table border=\"1\" class=\"dataframe\">\n",
       "  <thead>\n",
       "    <tr style=\"text-align: right;\">\n",
       "      <th></th>\n",
       "      <th>date_block_num</th>\n",
       "      <th>shop_id</th>\n",
       "      <th>item_id</th>\n",
       "      <th>item_cnt_month</th>\n",
       "      <th>city_code</th>\n",
       "      <th>item_category_id</th>\n",
       "      <th>type_code</th>\n",
       "      <th>subtype_code</th>\n",
       "      <th>item_cnt_month_lag_1</th>\n",
       "      <th>item_cnt_month_lag_2</th>\n",
       "      <th>item_cnt_month_lag_3</th>\n",
       "      <th>item_cnt_month_lag_6</th>\n",
       "      <th>item_cnt_month_lag_12</th>\n",
       "    </tr>\n",
       "  </thead>\n",
       "  <tbody>\n",
       "    <tr>\n",
       "      <th>0</th>\n",
       "      <td>0</td>\n",
       "      <td>2</td>\n",
       "      <td>19</td>\n",
       "      <td>0.0</td>\n",
       "      <td>0</td>\n",
       "      <td>40</td>\n",
       "      <td>11</td>\n",
       "      <td>4</td>\n",
       "      <td>NaN</td>\n",
       "      <td>NaN</td>\n",
       "      <td>NaN</td>\n",
       "      <td>NaN</td>\n",
       "      <td>NaN</td>\n",
       "    </tr>\n",
       "    <tr>\n",
       "      <th>1</th>\n",
       "      <td>0</td>\n",
       "      <td>2</td>\n",
       "      <td>27</td>\n",
       "      <td>1.0</td>\n",
       "      <td>0</td>\n",
       "      <td>19</td>\n",
       "      <td>5</td>\n",
       "      <td>10</td>\n",
       "      <td>NaN</td>\n",
       "      <td>NaN</td>\n",
       "      <td>NaN</td>\n",
       "      <td>NaN</td>\n",
       "      <td>NaN</td>\n",
       "    </tr>\n",
       "  </tbody>\n",
       "</table>\n",
       "</div>"
      ],
      "text/plain": [
       "   date_block_num  shop_id  item_id  item_cnt_month  city_code  \\\n",
       "0               0        2       19             0.0          0   \n",
       "1               0        2       27             1.0          0   \n",
       "\n",
       "   item_category_id  type_code  subtype_code  item_cnt_month_lag_1  \\\n",
       "0                40         11             4                   NaN   \n",
       "1                19          5            10                   NaN   \n",
       "\n",
       "   item_cnt_month_lag_2  item_cnt_month_lag_3  item_cnt_month_lag_6  \\\n",
       "0                   NaN                   NaN                   NaN   \n",
       "1                   NaN                   NaN                   NaN   \n",
       "\n",
       "   item_cnt_month_lag_12  \n",
       "0                    NaN  \n",
       "1                    NaN  "
      ]
     },
     "execution_count": 33,
     "metadata": {},
     "output_type": "execute_result"
    }
   ],
   "source": [
    "matrix[:2]"
   ]
  },
  {
   "cell_type": "code",
   "execution_count": 34,
   "metadata": {},
   "outputs": [
    {
     "data": {
      "text/plain": [
       "174.97405076026917"
      ]
     },
     "execution_count": 34,
     "metadata": {},
     "output_type": "execute_result"
    }
   ],
   "source": [
    "ts = time.time()\n",
    "\n",
    "matrix = encoding(matrix, ['date_block_num'], 'item_cnt_month', 'mean', np.float16, [1], True)\n",
    "matrix = encoding(matrix, ['date_block_num', 'item_id'], 'item_cnt_month', 'mean', np.float16, [1,2,3,6,12], True)\n",
    "matrix = encoding(matrix, ['date_block_num', 'shop_id'], 'item_cnt_month', 'mean', np.float16, [1,2,3,6,12], True)\n",
    "matrix = encoding(matrix, ['date_block_num', 'item_category_id'], 'item_cnt_month', 'mean', np.float16, [1], True)\n",
    "matrix = encoding(matrix, ['date_block_num', 'shop_id', 'item_category_id'], 'item_cnt_month', 'mean', np.float16, [1], True)\n",
    "matrix = encoding(matrix, ['date_block_num', 'shop_id', 'type_code'], 'item_cnt_month', 'mean', np.float16, [1], True)\n",
    "matrix = encoding(matrix, ['date_block_num', 'shop_id', 'subtype_code'], 'item_cnt_month', 'mean', np.float16, [1], True)\n",
    "matrix = encoding(matrix, ['date_block_num', 'city_code'], 'item_cnt_month', 'mean', np.float16, [1], True)\n",
    "matrix = encoding(matrix, ['date_block_num', 'item_id', 'city_code'], 'item_cnt_month', 'mean', np.float16, [1], True)\n",
    "matrix = encoding(matrix, ['date_block_num', 'type_code'], 'item_cnt_month', 'mean', np.float16, [1], True)\n",
    "matrix = encoding(matrix, ['date_block_num', 'subtype_code'], 'item_cnt_month', 'mean', np.float16, [1], True)\n",
    "\n",
    "time.time() - ts"
   ]
  },
  {
   "cell_type": "markdown",
   "metadata": {},
   "source": [
    "## Trend feat"
   ]
  },
  {
   "cell_type": "markdown",
   "metadata": {},
   "source": [
    "Price trend for the last (six) month: Item price in last month (or more before) is more expensive or cheaper than mean"
   ]
  },
  {
   "cell_type": "code",
   "execution_count": 35,
   "metadata": {},
   "outputs": [
    {
     "data": {
      "text/plain": [
       "45.23768210411072"
      ]
     },
     "execution_count": 35,
     "metadata": {},
     "output_type": "execute_result"
    }
   ],
   "source": [
    "ts = time.time()\n",
    "matrix = encoding(matrix, ['item_id'], 'item_price', 'mean', np.float16, other_df=train)\n",
    "matrix = encoding(matrix, ['date_block_num','item_id'], 'item_price', 'mean', np.float16, [1,2,3,4,5,6], other_df=train)\n",
    "time.time() - ts"
   ]
  },
  {
   "cell_type": "code",
   "execution_count": 36,
   "metadata": {},
   "outputs": [
    {
     "data": {
      "text/plain": [
       "46.35768389701843"
      ]
     },
     "execution_count": 36,
     "metadata": {},
     "output_type": "execute_result"
    }
   ],
   "source": [
    "# delta = item_price_(lag) - mean of price / mean of price\n",
    "# -> if delta > 0: particular time block's price is more expensive than mean\n",
    "#            else: mean is more expensive\n",
    "\n",
    "\n",
    "lags = [1,2,3,4,5,6]\n",
    "for i in lags:\n",
    "    matrix['delta_price_lag_' + str(i)] = \\\n",
    "        (matrix['date_item_mean_item_price_lag_' + str(i)] - matrix['item_mean_item_price']) / matrix['item_mean_item_price']\n",
    "time.time() - ts"
   ]
  },
  {
   "cell_type": "code",
   "execution_count": 37,
   "metadata": {},
   "outputs": [],
   "source": [
    "# This answers \"Have the item become cheaper or more expensive from mean of entire month\"\n",
    "def select_trend(row):\n",
    "    for i in lags:\n",
    "        if not np.isnan(row['delta_price_lag_' + str(i)]):\n",
    "            return row['delta_price_lag_' + str(i)]\n",
    "    return 0"
   ]
  },
  {
   "cell_type": "code",
   "execution_count": 38,
   "metadata": {},
   "outputs": [
    {
     "data": {
      "text/plain": [
       "169.59054923057556"
      ]
     },
     "execution_count": 38,
     "metadata": {},
     "output_type": "execute_result"
    }
   ],
   "source": [
    "ts = time.time()\n",
    "zero_bool = matrix[[c for c in matrix if 'delta_price_lag' in c]].sum(1).astype(bool)\n",
    "matrix['delta_price_lag'] = matrix[zero_bool][[c for c in matrix if 'delta_price_lag' in c]].apply(select_trend, 1).astype(np.float16).fillna(0)\n",
    "time.time() - ts"
   ]
  },
  {
   "cell_type": "code",
   "execution_count": 39,
   "metadata": {},
   "outputs": [
    {
     "data": {
      "text/html": [
       "<div>\n",
       "<style scoped>\n",
       "    .dataframe tbody tr th:only-of-type {\n",
       "        vertical-align: middle;\n",
       "    }\n",
       "\n",
       "    .dataframe tbody tr th {\n",
       "        vertical-align: top;\n",
       "    }\n",
       "\n",
       "    .dataframe thead th {\n",
       "        text-align: right;\n",
       "    }\n",
       "</style>\n",
       "<table border=\"1\" class=\"dataframe\">\n",
       "  <thead>\n",
       "    <tr style=\"text-align: right;\">\n",
       "      <th></th>\n",
       "      <th>date_block_num</th>\n",
       "      <th>shop_id</th>\n",
       "      <th>item_id</th>\n",
       "      <th>item_cnt_month</th>\n",
       "      <th>city_code</th>\n",
       "      <th>item_category_id</th>\n",
       "      <th>type_code</th>\n",
       "      <th>subtype_code</th>\n",
       "      <th>item_cnt_month_lag_1</th>\n",
       "      <th>item_cnt_month_lag_2</th>\n",
       "      <th>item_cnt_month_lag_3</th>\n",
       "      <th>item_cnt_month_lag_6</th>\n",
       "      <th>item_cnt_month_lag_12</th>\n",
       "      <th>date_mean_item_cnt_month_lag_1</th>\n",
       "      <th>date_item_mean_item_cnt_month_lag_1</th>\n",
       "      <th>date_item_mean_item_cnt_month_lag_2</th>\n",
       "      <th>date_item_mean_item_cnt_month_lag_3</th>\n",
       "      <th>date_item_mean_item_cnt_month_lag_6</th>\n",
       "      <th>date_item_mean_item_cnt_month_lag_12</th>\n",
       "      <th>date_shop_mean_item_cnt_month_lag_1</th>\n",
       "      <th>date_shop_mean_item_cnt_month_lag_2</th>\n",
       "      <th>date_shop_mean_item_cnt_month_lag_3</th>\n",
       "      <th>date_shop_mean_item_cnt_month_lag_6</th>\n",
       "      <th>date_shop_mean_item_cnt_month_lag_12</th>\n",
       "      <th>date_cat_mean_item_cnt_month_lag_1</th>\n",
       "      <th>date_shop_cat_mean_item_cnt_month_lag_1</th>\n",
       "      <th>date_shop_type_mean_item_cnt_month_lag_1</th>\n",
       "      <th>date_shop_subtype_mean_item_cnt_month_lag_1</th>\n",
       "      <th>date_city_mean_item_cnt_month_lag_1</th>\n",
       "      <th>date_item_city_mean_item_cnt_month_lag_1</th>\n",
       "      <th>date_type_mean_item_cnt_month_lag_1</th>\n",
       "      <th>date_subtype_mean_item_cnt_month_lag_1</th>\n",
       "      <th>item_mean_item_price</th>\n",
       "      <th>date_item_mean_item_price</th>\n",
       "      <th>date_item_mean_item_price_lag_1</th>\n",
       "      <th>date_item_mean_item_price_lag_2</th>\n",
       "      <th>date_item_mean_item_price_lag_3</th>\n",
       "      <th>date_item_mean_item_price_lag_4</th>\n",
       "      <th>date_item_mean_item_price_lag_5</th>\n",
       "      <th>date_item_mean_item_price_lag_6</th>\n",
       "      <th>delta_price_lag_1</th>\n",
       "      <th>delta_price_lag_2</th>\n",
       "      <th>delta_price_lag_3</th>\n",
       "      <th>delta_price_lag_4</th>\n",
       "      <th>delta_price_lag_5</th>\n",
       "      <th>delta_price_lag_6</th>\n",
       "      <th>delta_price_lag</th>\n",
       "    </tr>\n",
       "  </thead>\n",
       "  <tbody>\n",
       "    <tr>\n",
       "      <th>0</th>\n",
       "      <td>0</td>\n",
       "      <td>2</td>\n",
       "      <td>19</td>\n",
       "      <td>0.0</td>\n",
       "      <td>0</td>\n",
       "      <td>40</td>\n",
       "      <td>11</td>\n",
       "      <td>4</td>\n",
       "      <td>NaN</td>\n",
       "      <td>NaN</td>\n",
       "      <td>NaN</td>\n",
       "      <td>NaN</td>\n",
       "      <td>NaN</td>\n",
       "      <td>NaN</td>\n",
       "      <td>NaN</td>\n",
       "      <td>NaN</td>\n",
       "      <td>NaN</td>\n",
       "      <td>NaN</td>\n",
       "      <td>NaN</td>\n",
       "      <td>NaN</td>\n",
       "      <td>NaN</td>\n",
       "      <td>NaN</td>\n",
       "      <td>NaN</td>\n",
       "      <td>NaN</td>\n",
       "      <td>NaN</td>\n",
       "      <td>NaN</td>\n",
       "      <td>NaN</td>\n",
       "      <td>NaN</td>\n",
       "      <td>NaN</td>\n",
       "      <td>NaN</td>\n",
       "      <td>NaN</td>\n",
       "      <td>NaN</td>\n",
       "      <td>28.0</td>\n",
       "      <td>28.0</td>\n",
       "      <td>NaN</td>\n",
       "      <td>NaN</td>\n",
       "      <td>NaN</td>\n",
       "      <td>NaN</td>\n",
       "      <td>NaN</td>\n",
       "      <td>NaN</td>\n",
       "      <td>NaN</td>\n",
       "      <td>NaN</td>\n",
       "      <td>NaN</td>\n",
       "      <td>NaN</td>\n",
       "      <td>NaN</td>\n",
       "      <td>NaN</td>\n",
       "      <td>NaN</td>\n",
       "    </tr>\n",
       "    <tr>\n",
       "      <th>1</th>\n",
       "      <td>0</td>\n",
       "      <td>2</td>\n",
       "      <td>27</td>\n",
       "      <td>1.0</td>\n",
       "      <td>0</td>\n",
       "      <td>19</td>\n",
       "      <td>5</td>\n",
       "      <td>10</td>\n",
       "      <td>NaN</td>\n",
       "      <td>NaN</td>\n",
       "      <td>NaN</td>\n",
       "      <td>NaN</td>\n",
       "      <td>NaN</td>\n",
       "      <td>NaN</td>\n",
       "      <td>NaN</td>\n",
       "      <td>NaN</td>\n",
       "      <td>NaN</td>\n",
       "      <td>NaN</td>\n",
       "      <td>NaN</td>\n",
       "      <td>NaN</td>\n",
       "      <td>NaN</td>\n",
       "      <td>NaN</td>\n",
       "      <td>NaN</td>\n",
       "      <td>NaN</td>\n",
       "      <td>NaN</td>\n",
       "      <td>NaN</td>\n",
       "      <td>NaN</td>\n",
       "      <td>NaN</td>\n",
       "      <td>NaN</td>\n",
       "      <td>NaN</td>\n",
       "      <td>NaN</td>\n",
       "      <td>NaN</td>\n",
       "      <td>1461.0</td>\n",
       "      <td>2324.0</td>\n",
       "      <td>NaN</td>\n",
       "      <td>NaN</td>\n",
       "      <td>NaN</td>\n",
       "      <td>NaN</td>\n",
       "      <td>NaN</td>\n",
       "      <td>NaN</td>\n",
       "      <td>NaN</td>\n",
       "      <td>NaN</td>\n",
       "      <td>NaN</td>\n",
       "      <td>NaN</td>\n",
       "      <td>NaN</td>\n",
       "      <td>NaN</td>\n",
       "      <td>NaN</td>\n",
       "    </tr>\n",
       "  </tbody>\n",
       "</table>\n",
       "</div>"
      ],
      "text/plain": [
       "   date_block_num  shop_id  item_id  item_cnt_month  city_code  \\\n",
       "0               0        2       19             0.0          0   \n",
       "1               0        2       27             1.0          0   \n",
       "\n",
       "   item_category_id  type_code  subtype_code  item_cnt_month_lag_1  \\\n",
       "0                40         11             4                   NaN   \n",
       "1                19          5            10                   NaN   \n",
       "\n",
       "   item_cnt_month_lag_2  item_cnt_month_lag_3  item_cnt_month_lag_6  \\\n",
       "0                   NaN                   NaN                   NaN   \n",
       "1                   NaN                   NaN                   NaN   \n",
       "\n",
       "   item_cnt_month_lag_12  date_mean_item_cnt_month_lag_1  \\\n",
       "0                    NaN                             NaN   \n",
       "1                    NaN                             NaN   \n",
       "\n",
       "   date_item_mean_item_cnt_month_lag_1  date_item_mean_item_cnt_month_lag_2  \\\n",
       "0                                  NaN                                  NaN   \n",
       "1                                  NaN                                  NaN   \n",
       "\n",
       "   date_item_mean_item_cnt_month_lag_3  date_item_mean_item_cnt_month_lag_6  \\\n",
       "0                                  NaN                                  NaN   \n",
       "1                                  NaN                                  NaN   \n",
       "\n",
       "   date_item_mean_item_cnt_month_lag_12  date_shop_mean_item_cnt_month_lag_1  \\\n",
       "0                                   NaN                                  NaN   \n",
       "1                                   NaN                                  NaN   \n",
       "\n",
       "   date_shop_mean_item_cnt_month_lag_2  date_shop_mean_item_cnt_month_lag_3  \\\n",
       "0                                  NaN                                  NaN   \n",
       "1                                  NaN                                  NaN   \n",
       "\n",
       "   date_shop_mean_item_cnt_month_lag_6  date_shop_mean_item_cnt_month_lag_12  \\\n",
       "0                                  NaN                                   NaN   \n",
       "1                                  NaN                                   NaN   \n",
       "\n",
       "   date_cat_mean_item_cnt_month_lag_1  \\\n",
       "0                                 NaN   \n",
       "1                                 NaN   \n",
       "\n",
       "   date_shop_cat_mean_item_cnt_month_lag_1  \\\n",
       "0                                      NaN   \n",
       "1                                      NaN   \n",
       "\n",
       "   date_shop_type_mean_item_cnt_month_lag_1  \\\n",
       "0                                       NaN   \n",
       "1                                       NaN   \n",
       "\n",
       "   date_shop_subtype_mean_item_cnt_month_lag_1  \\\n",
       "0                                          NaN   \n",
       "1                                          NaN   \n",
       "\n",
       "   date_city_mean_item_cnt_month_lag_1  \\\n",
       "0                                  NaN   \n",
       "1                                  NaN   \n",
       "\n",
       "   date_item_city_mean_item_cnt_month_lag_1  \\\n",
       "0                                       NaN   \n",
       "1                                       NaN   \n",
       "\n",
       "   date_type_mean_item_cnt_month_lag_1  \\\n",
       "0                                  NaN   \n",
       "1                                  NaN   \n",
       "\n",
       "   date_subtype_mean_item_cnt_month_lag_1  item_mean_item_price  \\\n",
       "0                                     NaN                  28.0   \n",
       "1                                     NaN                1461.0   \n",
       "\n",
       "   date_item_mean_item_price  date_item_mean_item_price_lag_1  \\\n",
       "0                       28.0                              NaN   \n",
       "1                     2324.0                              NaN   \n",
       "\n",
       "   date_item_mean_item_price_lag_2  date_item_mean_item_price_lag_3  \\\n",
       "0                              NaN                              NaN   \n",
       "1                              NaN                              NaN   \n",
       "\n",
       "   date_item_mean_item_price_lag_4  date_item_mean_item_price_lag_5  \\\n",
       "0                              NaN                              NaN   \n",
       "1                              NaN                              NaN   \n",
       "\n",
       "   date_item_mean_item_price_lag_6  delta_price_lag_1  delta_price_lag_2  \\\n",
       "0                              NaN                NaN                NaN   \n",
       "1                              NaN                NaN                NaN   \n",
       "\n",
       "   delta_price_lag_3  delta_price_lag_4  delta_price_lag_5  delta_price_lag_6  \\\n",
       "0                NaN                NaN                NaN                NaN   \n",
       "1                NaN                NaN                NaN                NaN   \n",
       "\n",
       "   delta_price_lag  \n",
       "0              NaN  \n",
       "1              NaN  "
      ]
     },
     "execution_count": 39,
     "metadata": {},
     "output_type": "execute_result"
    }
   ],
   "source": [
    "matrix[:2]"
   ]
  },
  {
   "cell_type": "code",
   "execution_count": 40,
   "metadata": {},
   "outputs": [],
   "source": [
    "feat_to_drop = ['item_mean_item_price', 'date_item_mean_item_price']\n",
    "for i in lags:\n",
    "    feat_to_drop += ['date_item_mean_item_price_lag_' + str(i)] + ['delta_price_lag_' + str(i)]\n",
    "\n",
    "matrix.drop(feat_to_drop, 1, inplace=True)"
   ]
  },
  {
   "cell_type": "code",
   "execution_count": 41,
   "metadata": {},
   "outputs": [
    {
     "data": {
      "text/html": [
       "<div>\n",
       "<style scoped>\n",
       "    .dataframe tbody tr th:only-of-type {\n",
       "        vertical-align: middle;\n",
       "    }\n",
       "\n",
       "    .dataframe tbody tr th {\n",
       "        vertical-align: top;\n",
       "    }\n",
       "\n",
       "    .dataframe thead th {\n",
       "        text-align: right;\n",
       "    }\n",
       "</style>\n",
       "<table border=\"1\" class=\"dataframe\">\n",
       "  <thead>\n",
       "    <tr style=\"text-align: right;\">\n",
       "      <th></th>\n",
       "      <th>date_block_num</th>\n",
       "      <th>shop_id</th>\n",
       "      <th>item_id</th>\n",
       "      <th>item_cnt_month</th>\n",
       "      <th>city_code</th>\n",
       "      <th>item_category_id</th>\n",
       "      <th>type_code</th>\n",
       "      <th>subtype_code</th>\n",
       "      <th>item_cnt_month_lag_1</th>\n",
       "      <th>item_cnt_month_lag_2</th>\n",
       "      <th>item_cnt_month_lag_3</th>\n",
       "      <th>item_cnt_month_lag_6</th>\n",
       "      <th>item_cnt_month_lag_12</th>\n",
       "      <th>date_mean_item_cnt_month_lag_1</th>\n",
       "      <th>date_item_mean_item_cnt_month_lag_1</th>\n",
       "      <th>date_item_mean_item_cnt_month_lag_2</th>\n",
       "      <th>date_item_mean_item_cnt_month_lag_3</th>\n",
       "      <th>date_item_mean_item_cnt_month_lag_6</th>\n",
       "      <th>date_item_mean_item_cnt_month_lag_12</th>\n",
       "      <th>date_shop_mean_item_cnt_month_lag_1</th>\n",
       "      <th>date_shop_mean_item_cnt_month_lag_2</th>\n",
       "      <th>date_shop_mean_item_cnt_month_lag_3</th>\n",
       "      <th>date_shop_mean_item_cnt_month_lag_6</th>\n",
       "      <th>date_shop_mean_item_cnt_month_lag_12</th>\n",
       "      <th>date_cat_mean_item_cnt_month_lag_1</th>\n",
       "      <th>date_shop_cat_mean_item_cnt_month_lag_1</th>\n",
       "      <th>date_shop_type_mean_item_cnt_month_lag_1</th>\n",
       "      <th>date_shop_subtype_mean_item_cnt_month_lag_1</th>\n",
       "      <th>date_city_mean_item_cnt_month_lag_1</th>\n",
       "      <th>date_item_city_mean_item_cnt_month_lag_1</th>\n",
       "      <th>date_type_mean_item_cnt_month_lag_1</th>\n",
       "      <th>date_subtype_mean_item_cnt_month_lag_1</th>\n",
       "      <th>delta_price_lag</th>\n",
       "    </tr>\n",
       "  </thead>\n",
       "  <tbody>\n",
       "    <tr>\n",
       "      <th>0</th>\n",
       "      <td>0</td>\n",
       "      <td>2</td>\n",
       "      <td>19</td>\n",
       "      <td>0.0</td>\n",
       "      <td>0</td>\n",
       "      <td>40</td>\n",
       "      <td>11</td>\n",
       "      <td>4</td>\n",
       "      <td>NaN</td>\n",
       "      <td>NaN</td>\n",
       "      <td>NaN</td>\n",
       "      <td>NaN</td>\n",
       "      <td>NaN</td>\n",
       "      <td>NaN</td>\n",
       "      <td>NaN</td>\n",
       "      <td>NaN</td>\n",
       "      <td>NaN</td>\n",
       "      <td>NaN</td>\n",
       "      <td>NaN</td>\n",
       "      <td>NaN</td>\n",
       "      <td>NaN</td>\n",
       "      <td>NaN</td>\n",
       "      <td>NaN</td>\n",
       "      <td>NaN</td>\n",
       "      <td>NaN</td>\n",
       "      <td>NaN</td>\n",
       "      <td>NaN</td>\n",
       "      <td>NaN</td>\n",
       "      <td>NaN</td>\n",
       "      <td>NaN</td>\n",
       "      <td>NaN</td>\n",
       "      <td>NaN</td>\n",
       "      <td>NaN</td>\n",
       "    </tr>\n",
       "    <tr>\n",
       "      <th>1</th>\n",
       "      <td>0</td>\n",
       "      <td>2</td>\n",
       "      <td>27</td>\n",
       "      <td>1.0</td>\n",
       "      <td>0</td>\n",
       "      <td>19</td>\n",
       "      <td>5</td>\n",
       "      <td>10</td>\n",
       "      <td>NaN</td>\n",
       "      <td>NaN</td>\n",
       "      <td>NaN</td>\n",
       "      <td>NaN</td>\n",
       "      <td>NaN</td>\n",
       "      <td>NaN</td>\n",
       "      <td>NaN</td>\n",
       "      <td>NaN</td>\n",
       "      <td>NaN</td>\n",
       "      <td>NaN</td>\n",
       "      <td>NaN</td>\n",
       "      <td>NaN</td>\n",
       "      <td>NaN</td>\n",
       "      <td>NaN</td>\n",
       "      <td>NaN</td>\n",
       "      <td>NaN</td>\n",
       "      <td>NaN</td>\n",
       "      <td>NaN</td>\n",
       "      <td>NaN</td>\n",
       "      <td>NaN</td>\n",
       "      <td>NaN</td>\n",
       "      <td>NaN</td>\n",
       "      <td>NaN</td>\n",
       "      <td>NaN</td>\n",
       "      <td>NaN</td>\n",
       "    </tr>\n",
       "  </tbody>\n",
       "</table>\n",
       "</div>"
      ],
      "text/plain": [
       "   date_block_num  shop_id  item_id  item_cnt_month  city_code  \\\n",
       "0               0        2       19             0.0          0   \n",
       "1               0        2       27             1.0          0   \n",
       "\n",
       "   item_category_id  type_code  subtype_code  item_cnt_month_lag_1  \\\n",
       "0                40         11             4                   NaN   \n",
       "1                19          5            10                   NaN   \n",
       "\n",
       "   item_cnt_month_lag_2  item_cnt_month_lag_3  item_cnt_month_lag_6  \\\n",
       "0                   NaN                   NaN                   NaN   \n",
       "1                   NaN                   NaN                   NaN   \n",
       "\n",
       "   item_cnt_month_lag_12  date_mean_item_cnt_month_lag_1  \\\n",
       "0                    NaN                             NaN   \n",
       "1                    NaN                             NaN   \n",
       "\n",
       "   date_item_mean_item_cnt_month_lag_1  date_item_mean_item_cnt_month_lag_2  \\\n",
       "0                                  NaN                                  NaN   \n",
       "1                                  NaN                                  NaN   \n",
       "\n",
       "   date_item_mean_item_cnt_month_lag_3  date_item_mean_item_cnt_month_lag_6  \\\n",
       "0                                  NaN                                  NaN   \n",
       "1                                  NaN                                  NaN   \n",
       "\n",
       "   date_item_mean_item_cnt_month_lag_12  date_shop_mean_item_cnt_month_lag_1  \\\n",
       "0                                   NaN                                  NaN   \n",
       "1                                   NaN                                  NaN   \n",
       "\n",
       "   date_shop_mean_item_cnt_month_lag_2  date_shop_mean_item_cnt_month_lag_3  \\\n",
       "0                                  NaN                                  NaN   \n",
       "1                                  NaN                                  NaN   \n",
       "\n",
       "   date_shop_mean_item_cnt_month_lag_6  date_shop_mean_item_cnt_month_lag_12  \\\n",
       "0                                  NaN                                   NaN   \n",
       "1                                  NaN                                   NaN   \n",
       "\n",
       "   date_cat_mean_item_cnt_month_lag_1  \\\n",
       "0                                 NaN   \n",
       "1                                 NaN   \n",
       "\n",
       "   date_shop_cat_mean_item_cnt_month_lag_1  \\\n",
       "0                                      NaN   \n",
       "1                                      NaN   \n",
       "\n",
       "   date_shop_type_mean_item_cnt_month_lag_1  \\\n",
       "0                                       NaN   \n",
       "1                                       NaN   \n",
       "\n",
       "   date_shop_subtype_mean_item_cnt_month_lag_1  \\\n",
       "0                                          NaN   \n",
       "1                                          NaN   \n",
       "\n",
       "   date_city_mean_item_cnt_month_lag_1  \\\n",
       "0                                  NaN   \n",
       "1                                  NaN   \n",
       "\n",
       "   date_item_city_mean_item_cnt_month_lag_1  \\\n",
       "0                                       NaN   \n",
       "1                                       NaN   \n",
       "\n",
       "   date_type_mean_item_cnt_month_lag_1  \\\n",
       "0                                  NaN   \n",
       "1                                  NaN   \n",
       "\n",
       "   date_subtype_mean_item_cnt_month_lag_1  delta_price_lag  \n",
       "0                                     NaN              NaN  \n",
       "1                                     NaN              NaN  "
      ]
     },
     "execution_count": 41,
     "metadata": {},
     "output_type": "execute_result"
    }
   ],
   "source": [
    "matrix[:2]"
   ]
  },
  {
   "cell_type": "markdown",
   "metadata": {},
   "source": [
    "Last month shop revenue trend: Revenue at the shop in last month is better than mean revenue or not."
   ]
  },
  {
   "cell_type": "code",
   "execution_count": 42,
   "metadata": {},
   "outputs": [
    {
     "data": {
      "text/plain": [
       "14.289753437042236"
      ]
     },
     "execution_count": 42,
     "metadata": {},
     "output_type": "execute_result"
    }
   ],
   "source": [
    "ts = time.time()\n",
    "\n",
    "matrix, group = encoding(matrix, ['date_block_num','shop_id'], 'revenue', 'sum', np.float32, other_df=train, return_grp=True)\n",
    "matrix = encoding(matrix, ['shop_id'], 'date_shop_sum_revenue', 'mean', np.float32, other_df=group)\n",
    "\n",
    "matrix['delta_revenue'] = (matrix['date_shop_sum_revenue'] - matrix['shop_mean_date_shop_sum_revenue']) / matrix['shop_mean_date_shop_sum_revenue']\n",
    "matrix['delta_revenue'] = matrix['delta_revenue'].astype(np.float16)\n",
    "\n",
    "matrix = lag_feat(matrix, [1], 'delta_revenue')\n",
    "matrix.drop(['date_shop_sum_revenue','shop_mean_date_shop_sum_revenue','delta_revenue'], 1, inplace=True)\n",
    "\n",
    "time.time() - ts"
   ]
  },
  {
   "cell_type": "markdown",
   "metadata": {},
   "source": [
    "## Other elapsed feat"
   ]
  },
  {
   "cell_type": "code",
   "execution_count": 43,
   "metadata": {},
   "outputs": [],
   "source": [
    "matrix['month'] = matrix['date_block_num'] % 12\n",
    "days = pd.Series([31,28,31,30,31,30,31,31,30,31,30,31])\n",
    "matrix['days'] = matrix['month'].map(days).astype(np.int8)"
   ]
  },
  {
   "cell_type": "markdown",
   "metadata": {},
   "source": [
    "Months since the last sale for each shop/item pair and for item only."
   ]
  },
  {
   "cell_type": "code",
   "execution_count": 44,
   "metadata": {},
   "outputs": [
    {
     "data": {
      "text/plain": [
       "115.0364043712616"
      ]
     },
     "execution_count": 44,
     "metadata": {},
     "output_type": "execute_result"
    }
   ],
   "source": [
    "ts = time.time()\n",
    "cache = {}\n",
    "matrix['item_shop_last_sale'] = -1\n",
    "matrix['item_shop_last_sale'] = matrix['item_shop_last_sale'].astype(np.int8)\n",
    "\n",
    "key = (matrix.item_id.astype(str) + ' ' + matrix.shop_id.astype(str)).values\n",
    "item_cnt_month = matrix.item_cnt_month.values\n",
    "date_block_num = matrix.date_block_num.values\n",
    "for i, k in enumerate(key):\n",
    "    if k not in cache:\n",
    "        if item_cnt_month[i] != 0:\n",
    "            cache[k] = date_block_num[i]\n",
    "    else:\n",
    "        matrix.at[i, 'item_shop_last_sale'] = date_block_num[i] - cache[k]\n",
    "        cache[k] = date_block_num[i]\n",
    "    \n",
    "time.time() - ts"
   ]
  },
  {
   "cell_type": "code",
   "execution_count": 45,
   "metadata": {},
   "outputs": [
    {
     "data": {
      "text/plain": [
       "187.81189823150635"
      ]
     },
     "execution_count": 45,
     "metadata": {},
     "output_type": "execute_result"
    }
   ],
   "source": [
    "ts = time.time()\n",
    "cache = {}\n",
    "matrix['item_last_sale'] = -1\n",
    "matrix['item_last_sale'] = matrix['item_last_sale'].astype(np.int8)\n",
    "\n",
    "key = matrix.item_id.values\n",
    "for i, k in enumerate(key):\n",
    "    if k not in cache:\n",
    "        if item_cnt_month[i] != 0:\n",
    "            cache[k] = date_block_num[i]\n",
    "    else:\n",
    "        matrix.at[i, 'item_last_sale'] = date_block_num[i] - cache[k]\n",
    "        cache[k] = date_block_num[i]\n",
    "\n",
    "time.time() - ts"
   ]
  },
  {
   "cell_type": "markdown",
   "metadata": {},
   "source": [
    "Months since the first sale for each shop/item pair and for item only."
   ]
  },
  {
   "cell_type": "code",
   "execution_count": 46,
   "metadata": {},
   "outputs": [
    {
     "data": {
      "text/plain": [
       "2.3243303298950195"
      ]
     },
     "execution_count": 46,
     "metadata": {},
     "output_type": "execute_result"
    }
   ],
   "source": [
    "ts = time.time()\n",
    "matrix['item_shop_first_sale'] = matrix['date_block_num'] - matrix.groupby(['item_id','shop_id'])['date_block_num'].transform('min')\n",
    "matrix['item_first_sale'] = matrix['date_block_num'] - matrix.groupby('item_id')['date_block_num'].transform('min')\n",
    "time.time() - ts"
   ]
  },
  {
   "cell_type": "markdown",
   "metadata": {},
   "source": [
    "## Final prep"
   ]
  },
  {
   "cell_type": "markdown",
   "metadata": {},
   "source": [
    "Drop first 12 months because of using them as time lag values."
   ]
  },
  {
   "cell_type": "code",
   "execution_count": 47,
   "metadata": {},
   "outputs": [],
   "source": [
    "matrix = matrix[matrix.date_block_num > 11]"
   ]
  },
  {
   "cell_type": "code",
   "execution_count": 48,
   "metadata": {},
   "outputs": [
    {
     "data": {
      "text/html": [
       "<div>\n",
       "<style scoped>\n",
       "    .dataframe tbody tr th:only-of-type {\n",
       "        vertical-align: middle;\n",
       "    }\n",
       "\n",
       "    .dataframe tbody tr th {\n",
       "        vertical-align: top;\n",
       "    }\n",
       "\n",
       "    .dataframe thead th {\n",
       "        text-align: right;\n",
       "    }\n",
       "</style>\n",
       "<table border=\"1\" class=\"dataframe\">\n",
       "  <thead>\n",
       "    <tr style=\"text-align: right;\">\n",
       "      <th></th>\n",
       "      <th>item_cnt_month_lag_1</th>\n",
       "      <th>item_cnt_month_lag_2</th>\n",
       "      <th>item_cnt_month_lag_3</th>\n",
       "      <th>item_cnt_month_lag_6</th>\n",
       "      <th>item_cnt_month_lag_12</th>\n",
       "      <th>date_mean_item_cnt_month_lag_1</th>\n",
       "      <th>date_item_mean_item_cnt_month_lag_1</th>\n",
       "      <th>date_item_mean_item_cnt_month_lag_2</th>\n",
       "      <th>date_item_mean_item_cnt_month_lag_3</th>\n",
       "      <th>date_item_mean_item_cnt_month_lag_6</th>\n",
       "      <th>date_item_mean_item_cnt_month_lag_12</th>\n",
       "      <th>date_shop_mean_item_cnt_month_lag_1</th>\n",
       "      <th>date_shop_mean_item_cnt_month_lag_2</th>\n",
       "      <th>date_shop_mean_item_cnt_month_lag_3</th>\n",
       "      <th>date_shop_mean_item_cnt_month_lag_6</th>\n",
       "      <th>date_shop_mean_item_cnt_month_lag_12</th>\n",
       "      <th>date_cat_mean_item_cnt_month_lag_1</th>\n",
       "      <th>date_shop_cat_mean_item_cnt_month_lag_1</th>\n",
       "      <th>date_shop_type_mean_item_cnt_month_lag_1</th>\n",
       "      <th>date_shop_subtype_mean_item_cnt_month_lag_1</th>\n",
       "      <th>date_city_mean_item_cnt_month_lag_1</th>\n",
       "      <th>date_item_city_mean_item_cnt_month_lag_1</th>\n",
       "      <th>date_type_mean_item_cnt_month_lag_1</th>\n",
       "      <th>date_subtype_mean_item_cnt_month_lag_1</th>\n",
       "    </tr>\n",
       "  </thead>\n",
       "  <tbody>\n",
       "    <tr>\n",
       "      <th>4488710</th>\n",
       "      <td>0.0</td>\n",
       "      <td>0.0</td>\n",
       "      <td>0.0</td>\n",
       "      <td>0.0</td>\n",
       "      <td>1.0</td>\n",
       "      <td>0.411377</td>\n",
       "      <td>0.086975</td>\n",
       "      <td>0.044434</td>\n",
       "      <td>0.130493</td>\n",
       "      <td>0.065247</td>\n",
       "      <td>0.155518</td>\n",
       "      <td>0.148071</td>\n",
       "      <td>0.100647</td>\n",
       "      <td>0.08905</td>\n",
       "      <td>0.096008</td>\n",
       "      <td>0.141235</td>\n",
       "      <td>1.082031</td>\n",
       "      <td>0.955566</td>\n",
       "      <td>0.808594</td>\n",
       "      <td>0.935059</td>\n",
       "      <td>0.148071</td>\n",
       "      <td>0.0</td>\n",
       "      <td>1.03418</td>\n",
       "      <td>1.075195</td>\n",
       "    </tr>\n",
       "    <tr>\n",
       "      <th>4488711</th>\n",
       "      <td>0.0</td>\n",
       "      <td>0.0</td>\n",
       "      <td>0.0</td>\n",
       "      <td>0.0</td>\n",
       "      <td>NaN</td>\n",
       "      <td>0.411377</td>\n",
       "      <td>1.021484</td>\n",
       "      <td>1.022461</td>\n",
       "      <td>0.521973</td>\n",
       "      <td>0.891113</td>\n",
       "      <td>NaN</td>\n",
       "      <td>0.148071</td>\n",
       "      <td>0.100647</td>\n",
       "      <td>0.08905</td>\n",
       "      <td>0.096008</td>\n",
       "      <td>NaN</td>\n",
       "      <td>0.291504</td>\n",
       "      <td>0.046234</td>\n",
       "      <td>0.051727</td>\n",
       "      <td>0.046234</td>\n",
       "      <td>0.148071</td>\n",
       "      <td>0.0</td>\n",
       "      <td>0.27002</td>\n",
       "      <td>0.291504</td>\n",
       "    </tr>\n",
       "    <tr>\n",
       "      <th>4488712</th>\n",
       "      <td>0.0</td>\n",
       "      <td>0.0</td>\n",
       "      <td>0.0</td>\n",
       "      <td>0.0</td>\n",
       "      <td>NaN</td>\n",
       "      <td>0.411377</td>\n",
       "      <td>0.543457</td>\n",
       "      <td>0.600098</td>\n",
       "      <td>0.543457</td>\n",
       "      <td>0.304443</td>\n",
       "      <td>NaN</td>\n",
       "      <td>0.148071</td>\n",
       "      <td>0.100647</td>\n",
       "      <td>0.08905</td>\n",
       "      <td>0.096008</td>\n",
       "      <td>NaN</td>\n",
       "      <td>0.232788</td>\n",
       "      <td>0.059448</td>\n",
       "      <td>0.051727</td>\n",
       "      <td>0.064697</td>\n",
       "      <td>0.148071</td>\n",
       "      <td>0.0</td>\n",
       "      <td>0.27002</td>\n",
       "      <td>0.234009</td>\n",
       "    </tr>\n",
       "  </tbody>\n",
       "</table>\n",
       "</div>"
      ],
      "text/plain": [
       "         item_cnt_month_lag_1  item_cnt_month_lag_2  item_cnt_month_lag_3  \\\n",
       "4488710                   0.0                   0.0                   0.0   \n",
       "4488711                   0.0                   0.0                   0.0   \n",
       "4488712                   0.0                   0.0                   0.0   \n",
       "\n",
       "         item_cnt_month_lag_6  item_cnt_month_lag_12  \\\n",
       "4488710                   0.0                    1.0   \n",
       "4488711                   0.0                    NaN   \n",
       "4488712                   0.0                    NaN   \n",
       "\n",
       "         date_mean_item_cnt_month_lag_1  date_item_mean_item_cnt_month_lag_1  \\\n",
       "4488710                        0.411377                             0.086975   \n",
       "4488711                        0.411377                             1.021484   \n",
       "4488712                        0.411377                             0.543457   \n",
       "\n",
       "         date_item_mean_item_cnt_month_lag_2  \\\n",
       "4488710                             0.044434   \n",
       "4488711                             1.022461   \n",
       "4488712                             0.600098   \n",
       "\n",
       "         date_item_mean_item_cnt_month_lag_3  \\\n",
       "4488710                             0.130493   \n",
       "4488711                             0.521973   \n",
       "4488712                             0.543457   \n",
       "\n",
       "         date_item_mean_item_cnt_month_lag_6  \\\n",
       "4488710                             0.065247   \n",
       "4488711                             0.891113   \n",
       "4488712                             0.304443   \n",
       "\n",
       "         date_item_mean_item_cnt_month_lag_12  \\\n",
       "4488710                              0.155518   \n",
       "4488711                                   NaN   \n",
       "4488712                                   NaN   \n",
       "\n",
       "         date_shop_mean_item_cnt_month_lag_1  \\\n",
       "4488710                             0.148071   \n",
       "4488711                             0.148071   \n",
       "4488712                             0.148071   \n",
       "\n",
       "         date_shop_mean_item_cnt_month_lag_2  \\\n",
       "4488710                             0.100647   \n",
       "4488711                             0.100647   \n",
       "4488712                             0.100647   \n",
       "\n",
       "         date_shop_mean_item_cnt_month_lag_3  \\\n",
       "4488710                              0.08905   \n",
       "4488711                              0.08905   \n",
       "4488712                              0.08905   \n",
       "\n",
       "         date_shop_mean_item_cnt_month_lag_6  \\\n",
       "4488710                             0.096008   \n",
       "4488711                             0.096008   \n",
       "4488712                             0.096008   \n",
       "\n",
       "         date_shop_mean_item_cnt_month_lag_12  \\\n",
       "4488710                              0.141235   \n",
       "4488711                                   NaN   \n",
       "4488712                                   NaN   \n",
       "\n",
       "         date_cat_mean_item_cnt_month_lag_1  \\\n",
       "4488710                            1.082031   \n",
       "4488711                            0.291504   \n",
       "4488712                            0.232788   \n",
       "\n",
       "         date_shop_cat_mean_item_cnt_month_lag_1  \\\n",
       "4488710                                 0.955566   \n",
       "4488711                                 0.046234   \n",
       "4488712                                 0.059448   \n",
       "\n",
       "         date_shop_type_mean_item_cnt_month_lag_1  \\\n",
       "4488710                                  0.808594   \n",
       "4488711                                  0.051727   \n",
       "4488712                                  0.051727   \n",
       "\n",
       "         date_shop_subtype_mean_item_cnt_month_lag_1  \\\n",
       "4488710                                     0.935059   \n",
       "4488711                                     0.046234   \n",
       "4488712                                     0.064697   \n",
       "\n",
       "         date_city_mean_item_cnt_month_lag_1  \\\n",
       "4488710                             0.148071   \n",
       "4488711                             0.148071   \n",
       "4488712                             0.148071   \n",
       "\n",
       "         date_item_city_mean_item_cnt_month_lag_1  \\\n",
       "4488710                                       0.0   \n",
       "4488711                                       0.0   \n",
       "4488712                                       0.0   \n",
       "\n",
       "         date_type_mean_item_cnt_month_lag_1  \\\n",
       "4488710                              1.03418   \n",
       "4488711                              0.27002   \n",
       "4488712                              0.27002   \n",
       "\n",
       "         date_subtype_mean_item_cnt_month_lag_1  \n",
       "4488710                                1.075195  \n",
       "4488711                                0.291504  \n",
       "4488712                                0.234009  "
      ]
     },
     "execution_count": 48,
     "metadata": {},
     "output_type": "execute_result"
    }
   ],
   "source": [
    "matrix[[c for c in matrix if '_lag_' in c and 'item_cnt' in c]][:3]"
   ]
  },
  {
   "cell_type": "code",
   "execution_count": 49,
   "metadata": {
    "scrolled": true
   },
   "outputs": [
    {
     "data": {
      "text/plain": [
       "item_cnt_month_lag_1                           1397796\n",
       "item_cnt_month_lag_2                           1604874\n",
       "item_cnt_month_lag_3                           1808536\n",
       "item_cnt_month_lag_6                           2382471\n",
       "item_cnt_month_lag_12                          3499752\n",
       "date_mean_item_cnt_month_lag_1                 1397796\n",
       "date_item_mean_item_cnt_month_lag_1            1397796\n",
       "date_item_mean_item_cnt_month_lag_2            1604874\n",
       "date_item_mean_item_cnt_month_lag_3            1808536\n",
       "date_item_mean_item_cnt_month_lag_6            2382471\n",
       "date_item_mean_item_cnt_month_lag_12           3499752\n",
       "date_shop_mean_item_cnt_month_lag_1            1397796\n",
       "date_shop_mean_item_cnt_month_lag_2            1604874\n",
       "date_shop_mean_item_cnt_month_lag_3            1808536\n",
       "date_shop_mean_item_cnt_month_lag_6            2382471\n",
       "date_shop_mean_item_cnt_month_lag_12           3499752\n",
       "date_cat_mean_item_cnt_month_lag_1             1397796\n",
       "date_shop_cat_mean_item_cnt_month_lag_1        1397796\n",
       "date_shop_type_mean_item_cnt_month_lag_1       1397796\n",
       "date_shop_subtype_mean_item_cnt_month_lag_1    1397796\n",
       "date_city_mean_item_cnt_month_lag_1            1397796\n",
       "date_item_city_mean_item_cnt_month_lag_1       1397796\n",
       "date_type_mean_item_cnt_month_lag_1            1397796\n",
       "date_subtype_mean_item_cnt_month_lag_1         1397796\n",
       "dtype: int64"
      ]
     },
     "execution_count": 49,
     "metadata": {},
     "output_type": "execute_result"
    }
   ],
   "source": [
    "matrix[[c for c in matrix if '_lag_' in c and 'item_cnt' in c]].isna().sum()"
   ]
  },
  {
   "cell_type": "code",
   "execution_count": 50,
   "metadata": {},
   "outputs": [
    {
     "data": {
      "text/plain": [
       "0.8597066402435303"
      ]
     },
     "execution_count": 50,
     "metadata": {},
     "output_type": "execute_result"
    }
   ],
   "source": [
    "# matrix.fillna(0,inplace=True) cannot be used\n",
    "# because of price based columns (like delta_price_lag) which can not be filled with zeros.\n",
    "\n",
    "ts = time.time()\n",
    "def fill_na(df):\n",
    "    for c in df[[c for c in df if '_lag_' in c and 'item_cnt' in c]]:\n",
    "        if df[c].isnull().any():\n",
    "            df[c].fillna(0, inplace=True)\n",
    "    return df\n",
    "\n",
    "matrix = fill_na(matrix)\n",
    "time.time() - ts"
   ]
  },
  {
   "cell_type": "code",
   "execution_count": 51,
   "metadata": {},
   "outputs": [],
   "source": [
    "matrix.to_pickle('data_after_FE.pkl')\n",
    "del matrix\n",
    "del cache\n",
    "del group\n",
    "del items\n",
    "del shops\n",
    "del cats\n",
    "del train\n",
    "gc.collect();"
   ]
  },
  {
   "cell_type": "code",
   "execution_count": null,
   "metadata": {},
   "outputs": [],
   "source": []
  },
  {
   "cell_type": "markdown",
   "metadata": {},
   "source": [
    "# First level model"
   ]
  },
  {
   "cell_type": "code",
   "execution_count": 52,
   "metadata": {},
   "outputs": [],
   "source": [
    "data = pd.read_pickle('data_after_FE.pkl')"
   ]
  },
  {
   "cell_type": "code",
   "execution_count": 53,
   "metadata": {},
   "outputs": [],
   "source": [
    "X_trn  = data[data.date_block_num <  34].drop('item_cnt_month', 1)\n",
    "X_test = data[data.date_block_num == 34].drop('item_cnt_month', 1)\n",
    "\n",
    "y_trn  = data[data.date_block_num <  34]['item_cnt_month']"
   ]
  },
  {
   "cell_type": "markdown",
   "metadata": {},
   "source": [
    "### Test meta-feat"
   ]
  },
  {
   "cell_type": "markdown",
   "metadata": {},
   "source": [
    "#### Linear Model"
   ]
  },
  {
   "cell_type": "code",
   "execution_count": 54,
   "metadata": {
    "scrolled": true
   },
   "outputs": [
    {
     "data": {
      "text/plain": [
       "delta_price_lag         994673\n",
       "delta_revenue_lag_1    1397796\n",
       "dtype: int64"
      ]
     },
     "execution_count": 54,
     "metadata": {},
     "output_type": "execute_result"
    }
   ],
   "source": [
    "# NaN included columns\n",
    "data[[c for c in data if data[c].isna().any()]].isna().sum()"
   ]
  },
  {
   "cell_type": "code",
   "execution_count": 55,
   "metadata": {},
   "outputs": [],
   "source": [
    "# I want to avoid fillna something causes bad effect, and decide to drop NaN cols\n",
    "use_cols_lr  = [c for c in data if 'lag' in c]\n",
    "drop_cols_lr = [c for c in data if 'delta' in c]\n",
    "\n",
    "X_trn_lr  = X_trn[use_cols_lr].drop(drop_cols_lr, 1)\n",
    "X_test_lr = X_test[use_cols_lr].drop(drop_cols_lr, 1)"
   ]
  },
  {
   "cell_type": "code",
   "execution_count": 56,
   "metadata": {},
   "outputs": [],
   "source": [
    "lr = LinearRegression()\n",
    "lr.fit(X_trn_lr, y_trn)\n",
    "pred_lr = lr.predict(X_test_lr)"
   ]
  },
  {
   "cell_type": "markdown",
   "metadata": {},
   "source": [
    "#### LGBM"
   ]
  },
  {
   "cell_type": "code",
   "execution_count": 57,
   "metadata": {},
   "outputs": [],
   "source": [
    "lgb_params = {\n",
    "               'n_estimators':1000,\n",
    "               'feature_fraction': 0.8,\n",
    "               'metric': 'rmse',\n",
    "               'nthread':1, \n",
    "               'min_data_in_leaf': 2**8, \n",
    "               'bagging_fraction': 0.8, \n",
    "               'learning_rate': 0.3, \n",
    "               'objective': 'mse', \n",
    "               'bagging_seed': 2**7, \n",
    "               'num_leaves': 2**7,\n",
    "               'bagging_freq':1,\n",
    "               'verbose':1,\n",
    "               'seed':42\n",
    "              }"
   ]
  },
  {
   "cell_type": "code",
   "execution_count": 58,
   "metadata": {},
   "outputs": [
    {
     "data": {
      "text/plain": [
       "618.1762793064117"
      ]
     },
     "execution_count": 58,
     "metadata": {},
     "output_type": "execute_result"
    }
   ],
   "source": [
    "ts = time.time()\n",
    "model = lgb.train(lgb_params, lgb.Dataset(X_trn, y_trn))\n",
    "time.time() - ts"
   ]
  },
  {
   "cell_type": "code",
   "execution_count": 59,
   "metadata": {
    "scrolled": true
   },
   "outputs": [
    {
     "data": {
      "image/png": "[encoded data removed]",
      "text/plain": [
       "<Figure size 720x1008 with 1 Axes>"
      ]
     },
     "metadata": {
      "needs_background": "light"
     },
     "output_type": "display_data"
    }
   ],
   "source": [
    "def plot_features(booster, figsize):    \n",
    "    fig, ax = plt.subplots(figsize=figsize)\n",
    "    return plot_importance(booster=booster, ax=ax)\n",
    "\n",
    "plot_features(model, (10,14));"
   ]
  },
  {
   "cell_type": "code",
   "execution_count": 60,
   "metadata": {},
   "outputs": [],
   "source": [
    "# drop worst 5 columns\n",
    "drop_cols_lgb = X_trn.columns[model.feature_importance().argsort()[:5]]\n",
    "\n",
    "X_trn_lgb  = X_trn.drop(drop_cols_lgb,  1)\n",
    "X_test_lgb = X_test.drop(drop_cols_lgb, 1)"
   ]
  },
  {
   "cell_type": "code",
   "execution_count": 61,
   "metadata": {},
   "outputs": [
    {
     "data": {
      "text/plain": [
       "571.2265939712524"
      ]
     },
     "execution_count": 61,
     "metadata": {},
     "output_type": "execute_result"
    }
   ],
   "source": [
    "ts = time.time()\n",
    "model = lgb.train(lgb_params, lgb.Dataset(X_trn_lgb, y_trn))\n",
    "time.time() - ts"
   ]
  },
  {
   "cell_type": "code",
   "execution_count": 62,
   "metadata": {},
   "outputs": [],
   "source": [
    "pred_lgb = model.predict(X_test_lgb)"
   ]
  },
  {
   "cell_type": "code",
   "execution_count": 63,
   "metadata": {},
   "outputs": [],
   "source": [
    "# Test meta-feat\n",
    "X_test_level2 = np.concatenate([pred_lr[:, None], pred_lgb[:, None]], 1)"
   ]
  },
  {
   "cell_type": "markdown",
   "metadata": {},
   "source": [
    "### Train meta-feat"
   ]
  },
  {
   "cell_type": "code",
   "execution_count": 64,
   "metadata": {},
   "outputs": [
    {
     "data": {
      "text/plain": [
       "array([12, 13, 14, 15, 16, 17, 18, 19, 20, 21, 22, 23, 24, 25, 26, 27, 28,\n",
       "       29, 30, 31, 32, 33, 34], dtype=int64)"
      ]
     },
     "execution_count": 64,
     "metadata": {},
     "output_type": "execute_result"
    }
   ],
   "source": [
    "data.date_block_num.unique()"
   ]
  },
  {
   "cell_type": "code",
   "execution_count": 65,
   "metadata": {
    "scrolled": true
   },
   "outputs": [
    {
     "name": "stdout",
     "output_type": "stream",
     "text": [
      "28\n",
      "29\n",
      "30\n",
      "31\n",
      "32\n",
      "33\n"
     ]
    },
    {
     "data": {
      "text/plain": [
       "3142.4122405052185"
      ]
     },
     "execution_count": 65,
     "metadata": {},
     "output_type": "execute_result"
    }
   ],
   "source": [
    "ts = time.time()\n",
    "\n",
    "lr_preds, lgb_preds = [], []\n",
    "\n",
    "for n in list(range(28, 34)):\n",
    "    ts_for = time.time()\n",
    "    print(n)\n",
    "    X_fit_lr   = X_trn_lr [data.date_block_num <  n]  # trn\n",
    "    X_meta_lr  = X_trn_lr [data.date_block_num == n]  # val\n",
    "    X_fit_lgb  = X_trn_lgb[data.date_block_num <  n]  # trn\n",
    "    X_meta_lgb = X_trn_lgb[data.date_block_num == n]  # val\n",
    "    y_fit      = y_trn    [data.date_block_num <  n]  # trn\n",
    "    \n",
    "    lr.fit(X_fit_lr, y_fit)\n",
    "    lr_preds.append(lr.predict(X_meta_lr))\n",
    "    lgb_preds.append(lgb.train(lgb_params, lgb.Dataset(X_fit_lgb, y_fit)).predict(X_meta_lgb))\n",
    "    gc.collect()\n",
    "    time.time() - ts_for\n",
    "    \n",
    "time.time() - ts"
   ]
  },
  {
   "cell_type": "code",
   "execution_count": 66,
   "metadata": {},
   "outputs": [],
   "source": [
    "X_train_level2 = np.concatenate([np.hstack(lr_preds)[:, None], np.hstack(lgb_preds)[:, None]], 1)"
   ]
  },
  {
   "cell_type": "code",
   "execution_count": 67,
   "metadata": {},
   "outputs": [
    {
     "data": {
      "image/png": "[encoded data removed]",
      "text/plain": [
       "<Figure size 432x288 with 1 Axes>"
      ]
     },
     "metadata": {
      "needs_background": "light"
     },
     "output_type": "display_data"
    }
   ],
   "source": [
    "# I see wide distribution\n",
    "plt.scatter(X_train_level2[:,0], X_train_level2[:,1]);"
   ]
  },
  {
   "cell_type": "markdown",
   "metadata": {},
   "source": [
    "# Ensembling"
   ]
  },
  {
   "cell_type": "markdown",
   "metadata": {},
   "source": [
    "## Simple convex mix"
   ]
  },
  {
   "cell_type": "code",
   "execution_count": 68,
   "metadata": {},
   "outputs": [],
   "source": [
    "y_meta = y_trn[data.date_block_num.isin(list(range(28,34)))]"
   ]
  },
  {
   "cell_type": "code",
   "execution_count": 69,
   "metadata": {},
   "outputs": [
    {
     "data": {
      "text/plain": [
       "array([0.   , 0.001, 0.002, ..., 0.998, 0.999, 1.   ])"
      ]
     },
     "execution_count": 69,
     "metadata": {},
     "output_type": "execute_result"
    }
   ],
   "source": [
    "np.linspace(0,1,1001)"
   ]
  },
  {
   "cell_type": "code",
   "execution_count": 70,
   "metadata": {},
   "outputs": [
    {
     "name": "stdout",
     "output_type": "stream",
     "text": [
      "0.0\n",
      "0.2\n",
      "0.4\n",
      "0.6\n",
      "0.8\n",
      "1.0\n",
      "Best alpha: 0.493  Best score: 0.427254543516989\n"
     ]
    }
   ],
   "source": [
    "ts = time.time()\n",
    "best_score = 0\n",
    "for a in np.linspace(0,1,1001):\n",
    "    if a * 1000 % 200 == 0: print(a)\n",
    "    mix = a * X_train_level2[:,0] + (1-a) * X_train_level2[:,1]\n",
    "    score = r2_score(y_meta, mix)\n",
    "    if score > best_score:\n",
    "        best_alpha = a\n",
    "        best_score = score\n",
    "time.time() - ts\n",
    "        \n",
    "print('Best alpha: {}  Best score: {}'.format(best_alpha, best_score))\n",
    "# Even in RMSE, Best alpha becomes 0.493"
   ]
  },
  {
   "cell_type": "code",
   "execution_count": 71,
   "metadata": {
    "scrolled": true
   },
   "outputs": [],
   "source": [
    "sub.item_cnt_month = best_alpha * X_test_level2[:,0] + (1-best_alpha) * X_test_level2[:,1]"
   ]
  },
  {
   "cell_type": "code",
   "execution_count": 72,
   "metadata": {},
   "outputs": [],
   "source": [
    "sub.to_csv('convexMix_lgb_lr.csv', index=False)"
   ]
  },
  {
   "cell_type": "markdown",
   "metadata": {},
   "source": [
    "## Stacking"
   ]
  },
  {
   "cell_type": "code",
   "execution_count": 73,
   "metadata": {},
   "outputs": [
    {
     "data": {
      "text/plain": [
       "LinearRegression(copy_X=True, fit_intercept=True, n_jobs=None, normalize=False)"
      ]
     },
     "execution_count": 73,
     "metadata": {},
     "output_type": "execute_result"
    }
   ],
   "source": [
    "lr.fit(X_train_level2, y_meta)"
   ]
  },
  {
   "cell_type": "code",
   "execution_count": 74,
   "metadata": {},
   "outputs": [],
   "source": [
    "sub.item_cnt_month = lr.predict(X_test_level2)\n",
    "sub.to_csv('stack_lgb_lr.csv', index=False)"
   ]
  },
  {
   "cell_type": "markdown",
   "metadata": {},
   "source": [
    "Stacking (0.960848) got better score than convexMix (0.962145) in private LB."
   ]
  },
  {
   "cell_type": "code",
   "execution_count": 75,
   "metadata": {},
   "outputs": [
    {
     "data": {
      "text/plain": [
       "5209.984307050705"
      ]
     },
     "execution_count": 75,
     "metadata": {},
     "output_type": "execute_result"
    }
   ],
   "source": [
    "time.time() - start"
   ]
  },
  {
   "cell_type": "code",
   "execution_count": null,
   "metadata": {},
   "outputs": [],
   "source": []
  },
  {
   "cell_type": "code",
   "execution_count": null,
   "metadata": {},
   "outputs": [],
   "source": []
  }
 ],
 "metadata": {
  "kernelspec": {
   "display_name": "Python 3",
   "language": "python",
   "name": "python3"
  },
  "language_info": {
   "codemirror_mode": {
    "name": "ipython",
    "version": 3
   },
   "file_extension": ".py",
   "mimetype": "text/x-python",
   "name": "python",
   "nbconvert_exporter": "python",
   "pygments_lexer": "ipython3",
   "version": "3.7.3"
  }
 },
 "nbformat": 4,
 "nbformat_minor": 2
}
